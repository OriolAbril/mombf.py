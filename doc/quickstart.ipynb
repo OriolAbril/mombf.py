{
 "cells": [
  {
   "cell_type": "markdown",
   "metadata": {},
   "source": [
    "# Quickstart Guide"
   ]
  },
  {
   "cell_type": "code",
   "execution_count": 1,
   "metadata": {},
   "outputs": [
    {
     "name": "stderr",
     "output_type": "stream",
     "text": [
      "/home/oriol/venvs/jax/lib/python3.6/site-packages/jax/lib/xla_bridge.py:116: UserWarning: No GPU/TPU found, falling back to CPU.\n",
      "  warnings.warn('No GPU/TPU found, falling back to CPU.')\n"
     ]
    }
   ],
   "source": [
    "import numpy as np\n",
    "from jax import numpy as jnp, random\n",
    "from jax.numpy.linalg import cholesky, inv\n",
    "from jax.scipy.special import logsumexp\n",
    "import mombf\n",
    "import matplotlib.pyplot as plt\n",
    "import pandas as pd\n",
    "\n",
    "key = random.PRNGKey(0)\n",
    "key, subkey = random.split(key)"
   ]
  },
  {
   "cell_type": "code",
   "execution_count": 2,
   "metadata": {},
   "outputs": [],
   "source": [
    "def get_corr_data(p, x, corr_mat=None, key=None):\n",
    "    n = len(x)\n",
    "    if key is None:\n",
    "        key = random.PRNGKey(0)\n",
    "    key, subkey = random.split(key)        \n",
    "    if corr_mat is None:\n",
    "        corr_mat = (jnp.ones((p, p)) + jnp.eye(p)) / 2\n",
    "    x_extra = random.normal(subkey, (n, p-1))\n",
    "    x_all = jnp.hstack((x.reshape((-1,1)), x_extra))\n",
    "    \n",
    "    c1 = jnp.cov(x_all, rowvar=False)\n",
    "    c1 += 1e-8 * jnp.eye(p)\n",
    "    \n",
    "    chol1 = inv(cholesky(c1).T)\n",
    "    newx =  jnp.dot(x_all, chol1)\n",
    "    \n",
    "    chol2 = cholesky(corr_mat).T\n",
    "\n",
    "    finalx = jnp.dot(newx, chol2) * jnp.std(x) + jnp.mean(x)\n",
    "    return finalx    \n",
    "\n",
    "def get_result_df(models, model_probs):\n",
    "    order = np.argsort(np.array(model_probs))[::-1]\n",
    "    logprob = modprobs[order] - modprobs[order[0]]\n",
    "    exp_ = np.exp(logprob)\n",
    "    df = pd.DataFrame({\"model_idx\": modidxs[order], \"modprob\": exp_/np.sum(exp_)}).set_index(\"model_idx\")\n",
    "    return df"
   ]
  },
  {
   "cell_type": "code",
   "execution_count": 3,
   "metadata": {},
   "outputs": [
    {
     "data": {
      "text/plain": [
       "<matplotlib.colorbar.Colorbar at 0x7f78405e4400>"
      ]
     },
     "execution_count": 3,
     "metadata": {},
     "output_type": "execute_result"
    },
    {
     "data": {
      "image/png": "[encoded data removed]",
      "text/plain": [
       "<Figure size 432x288 with 2 Axes>"
      ]
     },
     "metadata": {
      "needs_background": "light"
     },
     "output_type": "display_data"
    }
   ],
   "source": [
    "n = 200\n",
    "p = 15\n",
    "x = random.normal(key, (n,))\n",
    "X = get_corr_data(p, x)\n",
    "plt.imshow(jnp.cov(X, rowvar=False), cmap=\"coolwarm\", vmin=-1, vmax=1)\n",
    "plt.colorbar()"
   ]
  },
  {
   "cell_type": "code",
   "execution_count": 4,
   "metadata": {},
   "outputs": [],
   "source": [
    "y = ((1.1 * X[:, 1] - .9 * X[:, 2] + random.normal(subkey, (n,))) > 0).astype(jnp.int32)\n",
    "fmt = f\"{{:0{p}b}}\"\n",
    "gammes = np.array([list(fmt.format(i)) for i in range(2 ** p)])\n",
    "gammes = jnp.array(gammes == \"0\")[:-1,:]\n",
    "\n",
    "aux = np.where(gammes, np.array([f\"{i},\" for i in range(p)]), \"\")\n",
    "modidxs = np.apply_along_axis(lambda x: \"\".join(x).strip(\",\"), 1, aux)"
   ]
  },
  {
   "cell_type": "code",
   "execution_count": 5,
   "metadata": {},
   "outputs": [],
   "source": [
    "_, modprobs = mombf.modelSelection(X, y, gammes, family=\"logistic\", prior=\"mom\", method=\"post\")"
   ]
  },
  {
   "cell_type": "code",
   "execution_count": 6,
   "metadata": {},
   "outputs": [
    {
     "data": {
      "text/html": [
       "<div>\n",
       "<style scoped>\n",
       "    .dataframe tbody tr th:only-of-type {\n",
       "        vertical-align: middle;\n",
       "    }\n",
       "\n",
       "    .dataframe tbody tr th {\n",
       "        vertical-align: top;\n",
       "    }\n",
       "\n",
       "    .dataframe thead th {\n",
       "        text-align: right;\n",
       "    }\n",
       "</style>\n",
       "<table border=\"1\" class=\"dataframe\">\n",
       "  <thead>\n",
       "    <tr style=\"text-align: right;\">\n",
       "      <th></th>\n",
       "      <th>modprob</th>\n",
       "    </tr>\n",
       "    <tr>\n",
       "      <th>model_idx</th>\n",
       "      <th></th>\n",
       "    </tr>\n",
       "  </thead>\n",
       "  <tbody>\n",
       "    <tr>\n",
       "      <th>1,2,12</th>\n",
       "      <td>0.032663</td>\n",
       "    </tr>\n",
       "    <tr>\n",
       "      <th>1,2,9,12</th>\n",
       "      <td>0.025090</td>\n",
       "    </tr>\n",
       "    <tr>\n",
       "      <th>1,2</th>\n",
       "      <td>0.021957</td>\n",
       "    </tr>\n",
       "    <tr>\n",
       "      <th>1,2,11,12</th>\n",
       "      <td>0.010172</td>\n",
       "    </tr>\n",
       "    <tr>\n",
       "      <th>1,2,9,10,12</th>\n",
       "      <td>0.009415</td>\n",
       "    </tr>\n",
       "    <tr>\n",
       "      <th>1,2,10</th>\n",
       "      <td>0.009091</td>\n",
       "    </tr>\n",
       "    <tr>\n",
       "      <th>1,2,10,12</th>\n",
       "      <td>0.008659</td>\n",
       "    </tr>\n",
       "  </tbody>\n",
       "</table>\n",
       "</div>"
      ],
      "text/plain": [
       "              modprob\n",
       "model_idx            \n",
       "1,2,12       0.032663\n",
       "1,2,9,12     0.025090\n",
       "1,2          0.021957\n",
       "1,2,11,12    0.010172\n",
       "1,2,9,10,12  0.009415\n",
       "1,2,10       0.009091\n",
       "1,2,10,12    0.008659"
      ]
     },
     "execution_count": 6,
     "metadata": {},
     "output_type": "execute_result"
    }
   ],
   "source": [
    "df = get_result_df(modidxs, modprobs)\n",
    "df.head(7)"
   ]
  },
  {
   "cell_type": "code",
   "execution_count": 7,
   "metadata": {},
   "outputs": [],
   "source": [
    "_, modprobs = mombf.modelSelection(X, y, gammes, family=\"logistic\", prior=\"normal\", method=\"post\")"
   ]
  },
  {
   "cell_type": "code",
   "execution_count": 8,
   "metadata": {},
   "outputs": [
    {
     "data": {
      "text/html": [
       "<div>\n",
       "<style scoped>\n",
       "    .dataframe tbody tr th:only-of-type {\n",
       "        vertical-align: middle;\n",
       "    }\n",
       "\n",
       "    .dataframe tbody tr th {\n",
       "        vertical-align: top;\n",
       "    }\n",
       "\n",
       "    .dataframe thead th {\n",
       "        text-align: right;\n",
       "    }\n",
       "</style>\n",
       "<table border=\"1\" class=\"dataframe\">\n",
       "  <thead>\n",
       "    <tr style=\"text-align: right;\">\n",
       "      <th></th>\n",
       "      <th>modprob</th>\n",
       "    </tr>\n",
       "    <tr>\n",
       "      <th>model_idx</th>\n",
       "      <th></th>\n",
       "    </tr>\n",
       "  </thead>\n",
       "  <tbody>\n",
       "    <tr>\n",
       "      <th>1,2,12</th>\n",
       "      <td>0.033522</td>\n",
       "    </tr>\n",
       "    <tr>\n",
       "      <th>1,2,9,12</th>\n",
       "      <td>0.025452</td>\n",
       "    </tr>\n",
       "    <tr>\n",
       "      <th>1,2</th>\n",
       "      <td>0.022789</td>\n",
       "    </tr>\n",
       "    <tr>\n",
       "      <th>1,2,11,12</th>\n",
       "      <td>0.010321</td>\n",
       "    </tr>\n",
       "    <tr>\n",
       "      <th>1,2,9,10,12</th>\n",
       "      <td>0.009438</td>\n",
       "    </tr>\n",
       "    <tr>\n",
       "      <th>1,2,10</th>\n",
       "      <td>0.009331</td>\n",
       "    </tr>\n",
       "    <tr>\n",
       "      <th>1,2,10,12</th>\n",
       "      <td>0.008783</td>\n",
       "    </tr>\n",
       "  </tbody>\n",
       "</table>\n",
       "</div>"
      ],
      "text/plain": [
       "              modprob\n",
       "model_idx            \n",
       "1,2,12       0.033522\n",
       "1,2,9,12     0.025452\n",
       "1,2          0.022789\n",
       "1,2,11,12    0.010321\n",
       "1,2,9,10,12  0.009438\n",
       "1,2,10       0.009331\n",
       "1,2,10,12    0.008783"
      ]
     },
     "execution_count": 8,
     "metadata": {},
     "output_type": "execute_result"
    }
   ],
   "source": [
    "df = get_result_df(modidxs, modprobs)\n",
    "df.head(7)"
   ]
  },
  {
   "cell_type": "code",
   "execution_count": 5,
   "metadata": {},
   "outputs": [],
   "source": [
    "_, modprobs = mombf.modelSelection(X, y, gammes, family=\"logistic\", prior=\"momlog\", method=\"post\")"
   ]
  },
  {
   "cell_type": "code",
   "execution_count": 6,
   "metadata": {},
   "outputs": [
    {
     "data": {
      "text/html": [
       "<div>\n",
       "<style scoped>\n",
       "    .dataframe tbody tr th:only-of-type {\n",
       "        vertical-align: middle;\n",
       "    }\n",
       "\n",
       "    .dataframe tbody tr th {\n",
       "        vertical-align: top;\n",
       "    }\n",
       "\n",
       "    .dataframe thead th {\n",
       "        text-align: right;\n",
       "    }\n",
       "</style>\n",
       "<table border=\"1\" class=\"dataframe\">\n",
       "  <thead>\n",
       "    <tr style=\"text-align: right;\">\n",
       "      <th></th>\n",
       "      <th>modprob</th>\n",
       "    </tr>\n",
       "    <tr>\n",
       "      <th>model_idx</th>\n",
       "      <th></th>\n",
       "    </tr>\n",
       "  </thead>\n",
       "  <tbody>\n",
       "    <tr>\n",
       "      <th>0,1,2,3,4,5,6,7,8,9,10,11,12,13,14</th>\n",
       "      <td>1.0</td>\n",
       "    </tr>\n",
       "    <tr>\n",
       "      <th>0,1,2,3,4,5,6,8,9,10,11,12,13,14</th>\n",
       "      <td>0.0</td>\n",
       "    </tr>\n",
       "    <tr>\n",
       "      <th>0,1,2,3,5,6,7,8,9,10,11,12,13,14</th>\n",
       "      <td>0.0</td>\n",
       "    </tr>\n",
       "    <tr>\n",
       "      <th>0,1,2,3,4,5,6,7,8,9,10,11,12,14</th>\n",
       "      <td>0.0</td>\n",
       "    </tr>\n",
       "    <tr>\n",
       "      <th>0,1,2,3,4,5,6,7,8,9,11,12,13,14</th>\n",
       "      <td>0.0</td>\n",
       "    </tr>\n",
       "    <tr>\n",
       "      <th>0,1,2,3,4,5,6,7,8,10,11,12,13,14</th>\n",
       "      <td>0.0</td>\n",
       "    </tr>\n",
       "    <tr>\n",
       "      <th>0,1,2,3,4,5,6,7,8,9,10,11,13,14</th>\n",
       "      <td>0.0</td>\n",
       "    </tr>\n",
       "  </tbody>\n",
       "</table>\n",
       "</div>"
      ],
      "text/plain": [
       "                                    modprob\n",
       "model_idx                                  \n",
       "0,1,2,3,4,5,6,7,8,9,10,11,12,13,14      1.0\n",
       "0,1,2,3,4,5,6,8,9,10,11,12,13,14        0.0\n",
       "0,1,2,3,5,6,7,8,9,10,11,12,13,14        0.0\n",
       "0,1,2,3,4,5,6,7,8,9,10,11,12,14         0.0\n",
       "0,1,2,3,4,5,6,7,8,9,11,12,13,14         0.0\n",
       "0,1,2,3,4,5,6,7,8,10,11,12,13,14        0.0\n",
       "0,1,2,3,4,5,6,7,8,9,10,11,13,14         0.0"
      ]
     },
     "execution_count": 6,
     "metadata": {},
     "output_type": "execute_result"
    }
   ],
   "source": [
    "df = get_result_df(modidxs, modprobs)\n",
    "df.head(7)"
   ]
  },
  {
   "cell_type": "code",
   "execution_count": null,
   "metadata": {},
   "outputs": [],
   "source": [
    "#%timeit mombf.modelSelection(X, y, gammes, family=\"logistic\", prior=\"mom\", method=\"lik\")"
   ]
  },
  {
   "cell_type": "code",
   "execution_count": null,
   "metadata": {},
   "outputs": [],
   "source": []
  }
 ],
 "metadata": {
  "celltoolbar": "Raw Cell Format",
  "kernelspec": {
   "display_name": "Python 3",
   "language": "python",
   "name": "python3"
  },
  "language_info": {
   "codemirror_mode": {
    "name": "ipython",
    "version": 3
   },
   "file_extension": ".py",
   "mimetype": "text/x-python",
   "name": "python",
   "nbconvert_exporter": "python",
   "pygments_lexer": "ipython3",
   "version": "3.6.9"
  }
 },
 "nbformat": 4,
 "nbformat_minor": 2
}
